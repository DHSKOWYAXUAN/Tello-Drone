{
 "cells": [
  {
   "cell_type": "code",
   "execution_count": null,
   "metadata": {},
   "outputs": [],
   "source": [
    "#importing libraries\n",
    "import threading\n",
    "import socket\n",
    "import time"
   ]
  },
  {
   "cell_type": "code",
   "execution_count": null,
   "metadata": {},
   "outputs": [],
   "source": [
    "#initialising computer's socket to communicate with tello\n",
    "#using port 9000\n",
    "loc_addr = (\"\", 9000)\n",
    "\n",
    "sock = socket.socket(socket.AF_INET, socket.SOCK_DGRAM)\n",
    "sock.bind(loc_addr)"
   ]
  },
  {
   "cell_type": "code",
   "execution_count": null,
   "metadata": {},
   "outputs": [],
   "source": [
    "#tello's address on it's own LAN\n",
    "#port 8889 to send commands\n",
    "#port 8890 to get tello state\n",
    "#port 11111 to get video stream if video stream is set to on (covered later)\n",
    "tello_addr = (\"192.168.10.1\", 8889)"
   ]
  },
  {
   "cell_type": "code",
   "execution_count": null,
   "metadata": {},
   "outputs": [],
   "source": [
    "#receive function to get reply message from tello (error/ack message)\n",
    "def receive():\n",
    "    #128 represents max number of bytes in reply message\n",
    "    data, server = sock.recvfrom(128)\n",
    "    #print decoded reply from tello\n",
    "    print (data.decode(encoding=\"utf-8\"))"
   ]
  },
  {
   "cell_type": "code",
   "execution_count": null,
   "metadata": {},
   "outputs": [],
   "source": [
    "#set tello to command mode\n",
    "sock.sendto(\"command\".encode(encoding=\"utf-8\"), tello_addr)\n",
    "#get ack/error message from tello\n",
    "receive()"
   ]
  },
  {
   "cell_type": "code",
   "execution_count": null,
   "metadata": {},
   "outputs": [],
   "source": [
    "#basic commands\n",
    "\n",
    "#takeoff\n",
    "sock.sendto(\"takeoff\".encode(encoding=\"utf-8\"), tello_addr)\n",
    "receive()\n",
    "#move up 50cm\n",
    "sock.sendto(\"up 50\".encode(encoding=\"utf-8\"), tello_addr)\n",
    "receive()\n",
    "#move right 50cm\n",
    "sock.sendto(\"right 50\".encode(encoding=\"utf-8\"), tello_addr)\n",
    "receive()\n",
    "#move down 50cm\n",
    "sock.sendto(\"down 50\".encode(encoding=\"utf-8\"), tello_addr)\n",
    "receive()\n",
    "#move left 50cm\n",
    "sock.sendto(\"left 50\".encode(encoding=\"utf-8\"), tello_addr)\n",
    "receive()\n",
    "#turn clockwise 90 degrees\n",
    "sock.sendto(\"cw 90\".encode(encoding=\"utf-8\"), tello_addr)\n",
    "receive()\n",
    "#move forward 50cm\n",
    "sock.sendto(\"forward 50\".encode(encoding=\"utf-8\"), tello_addr)\n",
    "receive()\n",
    "#move backwards 50cm\n",
    "sock.sendto(\"back 50\".encode(encoding=\"utf-8\"), tello_addr)\n",
    "receive()\n",
    "#turn counter-clockwise 90 degrees\n",
    "sock.sendto(\"ccw 90\".encode(encoding=\"utf-8\"), tello_addr)\n",
    "receive()\n",
    "#land\n",
    "sock.sendto(\"land\".encode(encoding=\"utf-8\"), tello_addr)\n",
    "receive()\n"
   ]
  },
  {
   "cell_type": "code",
   "execution_count": null,
   "metadata": {},
   "outputs": [],
   "source": [
    "#get video feed using tellopy library\n",
    "from tellopy import Tello\n",
    "import av\n",
    "import cv2\n",
    "import numpy as np\n",
    "import imutils\n",
    "\n",
    "tello = Tello()\n",
    "tello.set_loglevel(0)\n",
    "tello.connect()\n",
    "tello.wait_for_connection(3)\n",
    "\n"
   ]
  },
  {
   "cell_type": "code",
   "execution_count": null,
   "metadata": {},
   "outputs": [],
   "source": [
    "# Turn on video feed of drone and access it\n",
    "tello.start_video()\n",
    "retry = 3\n",
    "container = None\n",
    "while container is None and retry > 0:\n",
    "    retry -= 1\n",
    "    try:\n",
    "        container = av.open(tello.get_video_stream())\n",
    "        container.streams.video[0].thread_type = 'AUTO'\n",
    "    except av.AVError as ave:\n",
    "        print(ave)\n",
    "        print('retry...')"
   ]
  },
  {
   "cell_type": "code",
   "execution_count": null,
   "metadata": {},
   "outputs": [],
   "source": [
    "running = True\n",
    "while running:\n",
    "    #skip initial frames\n",
    "    frame_skip = 300\n",
    "    for frame in container.decode(video=0):\n",
    "        if frame_skip > 0:\n",
    "            frame_skip -= 1\n",
    "            continue\n",
    "        # Get an image from frame\n",
    "        image = cv2.cvtColor(np.array(frame.to_image()), cv2.COLOR_RGB2BGR)\n",
    "        # Resize the image\n",
    "        image = imutils.resize(image, width=800)\n",
    "        # Display current frame on screen\n",
    "        cv2.imshow(\"image\", image)\n",
    "        key = cv2.waitKey(1) & 0xFF\n",
    "\n",
    "        #terminate when q is pressed\n",
    "        if key == ord(\"q\"):\n",
    "            running = False\n",
    "            break\n",
    "        #skip 5 frames to prevent lag\n",
    "        frame_skip = 7"
   ]
  },
  {
   "cell_type": "code",
   "execution_count": null,
   "metadata": {},
   "outputs": [],
   "source": []
  },
  {
   "cell_type": "code",
   "execution_count": null,
   "metadata": {},
   "outputs": [],
   "source": []
  }
 ],
 "metadata": {
  "kernelspec": {
   "display_name": "Python 3",
   "language": "python",
   "name": "python3"
  },
  "language_info": {
   "codemirror_mode": {
    "name": "ipython",
    "version": 3
   },
   "file_extension": ".py",
   "mimetype": "text/x-python",
   "name": "python",
   "nbconvert_exporter": "python",
   "pygments_lexer": "ipython3",
   "version": "3.7.3"
  }
 },
 "nbformat": 4,
 "nbformat_minor": 2
}
