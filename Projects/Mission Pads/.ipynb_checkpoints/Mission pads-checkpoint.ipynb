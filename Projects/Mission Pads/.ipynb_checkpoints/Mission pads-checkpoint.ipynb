{
 "cells": [
  {
   "cell_type": "code",
   "execution_count": null,
   "metadata": {},
   "outputs": [],
   "source": [
    "import socket\n",
    "import threading\n",
    "import time"
   ]
  },
  {
   "cell_type": "code",
   "execution_count": null,
   "metadata": {},
   "outputs": [],
   "source": [
    "sock = socket.socket(socket.AF_INET, socket.SOCK_DGRAM)\n",
    "local_addr = (\"\", 9000)\n",
    "sock.bind(local_addr)"
   ]
  },
  {
   "cell_type": "code",
   "execution_count": null,
   "metadata": {},
   "outputs": [],
   "source": [
    "tello_addr = (\"192.168.0.101\", 8889)"
   ]
  },
  {
   "cell_type": "code",
   "execution_count": null,
   "metadata": {},
   "outputs": [],
   "source": [
    "#receive function\n",
    "def receive():\n",
    "    #tello only sending ack/small error message to port\n",
    "    data, server_addr = sock.recvfrom(64)\n",
    "    print (data.decode(encoding=\"utf-8\"), server_addr)"
   ]
  },
  {
   "cell_type": "code",
   "execution_count": null,
   "metadata": {},
   "outputs": [],
   "source": [
    "sock.sendto(\"command\".encode(), tello_addr)\n",
    "receive()\n",
    "#short pause after receiving ack message before continuing, ensure that command was completed\n",
    "time.sleep(1)\n",
    "sock.sendto(\"takeoff\".encode(), tello_addr)\n",
    "receive()\n",
    "time.sleep(1)\n",
    "#go x y z speed mission_pad\n",
    "#move 50 cm forward in direction of x axis from mission pad 1 (i.e.50cm in the direction of rocket) at 50cm altitude\n",
    "sock.sendto(\"go 30 0 50 20 m1\".encode(), tello_addr)\n",
    "receive()\n",
    "time.sleep(1)\n",
    "sock.sendto(\"up 100\".encode(), tello_addr)\n",
    "receive()\n",
    "time.sleep(1)\n",
    "#go back to mission pad at 50 cm altitude\n",
    "sock.sendto(\"go 0 0 50 20 m1\".encode(), tello_addr)\n",
    "receive()\n",
    "time.sleep(1)\n",
    "sock.sendto(\"land\".encode(), tello_addr)\n",
    "receive()"
   ]
  },
  {
   "cell_type": "code",
   "execution_count": null,
   "metadata": {},
   "outputs": [],
   "source": [
    "sock.sendto(\"battery?\".encode(), tello_addr)\n",
    "receive()"
   ]
  },
  {
   "cell_type": "code",
   "execution_count": null,
   "metadata": {},
   "outputs": [],
   "source": [
    "sock.close()"
   ]
  },
  {
   "cell_type": "code",
   "execution_count": null,
   "metadata": {},
   "outputs": [],
   "source": []
  }
 ],
 "metadata": {
  "kernelspec": {
   "display_name": "Python 3",
   "language": "python",
   "name": "python3"
  },
  "language_info": {
   "codemirror_mode": {
    "name": "ipython",
    "version": 3
   },
   "file_extension": ".py",
   "mimetype": "text/x-python",
   "name": "python",
   "nbconvert_exporter": "python",
   "pygments_lexer": "ipython3",
   "version": "3.7.3"
  }
 },
 "nbformat": 4,
 "nbformat_minor": 2
}
