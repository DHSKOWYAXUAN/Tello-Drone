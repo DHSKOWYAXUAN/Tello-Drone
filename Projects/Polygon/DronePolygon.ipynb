{
 "cells": [
  {
   "cell_type": "code",
   "execution_count": null,
   "metadata": {},
   "outputs": [],
   "source": [
    "# Import socket and time modules\n",
    "import socket\n",
    "import time\n",
    "\n",
    "# Configure IP and port of Tello\n",
    "tello_address = ('192.168.10.1', 8889)\n",
    "\n",
    "# Create a UDP connection that we'll send the command to\n",
    "sock = socket.socket(socket.AF_INET, socket.SOCK_DGRAM)\n",
    "\n",
    "# Bind the socket to a local UDP server\n",
    "sock.bind(('', 9000))"
   ]
  },
  {
   "cell_type": "code",
   "execution_count": null,
   "metadata": {},
   "outputs": [],
   "source": [
    "# Function to send messages to Tello\n",
    "def send(message, delay):\n",
    "    try:\n",
    "        sock.sendto(message.encode(), tello_address)\n",
    "        print(\"Sending message: \" + message)\n",
    "    except Exception as e:\n",
    "        print(\"Error sending: \" + str(e))\n",
    "    # Wait for tello to finish processing the message\n",
    "    time.sleep(delay)\n",
    "\n",
    "\n",
    "# Function that listens for messages from Tello and prints them to the screen\n",
    "def receive(delay):\n",
    "    try:\n",
    "        response, ip_address = sock.recvfrom(128)\n",
    "        print(\"Received message: \" + response.decode(encoding='utf-8') + \" from Tello with IP: \" + str(ip_address))\n",
    "    except Exception as e:\n",
    "        print(\"Error receiving: \" + str(e))\n",
    "    # Wait for tello to finish sending the message\n",
    "    time.sleep(delay)"
   ]
  },
  {
   "cell_type": "code",
   "execution_count": null,
   "metadata": {},
   "outputs": [],
   "source": [
    "# Receive input from user on polygon sides\n",
    "n = int(input(\"Enter the number of sides in the polygon: \"))"
   ]
  },
  {
   "cell_type": "code",
   "execution_count": null,
   "metadata": {},
   "outputs": [],
   "source": [
    "# Calculate interior angle using formula\n",
    "interior_angle = (n-2)*(180)//n\n",
    "# Angle to turn is 180-interior angle\n",
    "turning_angle = 180-interior_angle\n",
    "# The length of 1 side of the polygon\n",
    "step = 30"
   ]
  },
  {
   "cell_type": "code",
   "execution_count": null,
   "metadata": {},
   "outputs": [],
   "source": [
    "# Send Tello into command mode\n",
    "send(\"command\",2)"
   ]
  },
  {
   "cell_type": "code",
   "execution_count": null,
   "metadata": {},
   "outputs": [],
   "source": [
    "# Takeoff!\n",
    "send(\"takeoff\", 4)\n",
    "# For every side of the polygon\n",
    "for i in range(n):\n",
    "    # Turn\n",
    "    send(\"cw {}\".format(turning_angle), 3)\n",
    "    # Move forward\n",
    "    send(\"forward {}\".format(step), 3)\n",
    "\n",
    "# Land after finishing polygon\n",
    "send(\"land\",1)"
   ]
  }
 ],
 "metadata": {
  "kernelspec": {
   "display_name": "Python 3",
   "language": "python",
   "name": "python3"
  },
  "language_info": {
   "codemirror_mode": {
    "name": "ipython",
    "version": 3
   },
   "file_extension": ".py",
   "mimetype": "text/x-python",
   "name": "python",
   "nbconvert_exporter": "python",
   "pygments_lexer": "ipython3",
   "version": "3.7.3"
  }
 },
 "nbformat": 4,
 "nbformat_minor": 2
}
