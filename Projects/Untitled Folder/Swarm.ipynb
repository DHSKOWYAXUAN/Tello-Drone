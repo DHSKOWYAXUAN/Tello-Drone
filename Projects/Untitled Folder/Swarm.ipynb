{
 "cells": [
  {
   "cell_type": "code",
   "execution_count": null,
   "metadata": {},
   "outputs": [],
   "source": [
    "#importing libraries\n",
    "import socket\n",
    "import threading\n",
    "#for delay\n",
    "import time\n",
    "\n",
    "#set tello port\n",
    "tello_port = 8889"
   ]
  },
  {
   "cell_type": "code",
   "execution_count": null,
   "metadata": {},
   "outputs": [],
   "source": [
    "#setting up local computer's socket\n",
    "loc_port = 9000\n",
    "loc_addr = ('', loc_port)\n",
    "\n",
    "sock = socket.socket(socket.AF_INET, socket.SOCK_DGRAM)\n",
    "sock.bind(loc_addr)"
   ]
  },
  {
   "cell_type": "code",
   "execution_count": null,
   "metadata": {},
   "outputs": [],
   "source": [
    "#receive listener function\n",
    "def receive(sock):\n",
    "    while True:\n",
    "        try:\n",
    "            #tello only sending ack/small error message to port\n",
    "            data, server_addr = sock.recvfrom(64)\n",
    "            print (data.decode(encoding=\"utf-8\"), server_addr)\n",
    "        except Exception as e:\n",
    "            print (\"Error: \" + str(e))"
   ]
  },
  {
   "cell_type": "code",
   "execution_count": null,
   "metadata": {},
   "outputs": [],
   "source": [
    "#send function to send command to drone\n",
    "def send(command, addr):\n",
    "    msg = command.encode(encoding=\"utf-8\")\n",
    "    print (f\"Sending command: {command}, {addr}\")\n",
    "    sock.sendto(msg, addr)"
   ]
  },
  {
   "cell_type": "code",
   "execution_count": null,
   "metadata": {},
   "outputs": [],
   "source": [
    "#start receive listener on another thread\n",
    "recv_thread = threading.Thread(target=receive, args = (sock,))\n",
    "recv_thread.daemon = True\n",
    "recv_thread.start()"
   ]
  },
  {
   "cell_type": "code",
   "execution_count": null,
   "metadata": {},
   "outputs": [],
   "source": [
    "#setting up tello addresses in 1D array\n",
    "\n",
    "#can use nmap to find the tello devices' IP on the network\n",
    "tello_ip = [\"192.168.0.101\"]\n",
    "#assign tello_port to each tello_ip\n",
    "tello_addresses = [(i, tello_port) for i in tello_ip]\n",
    "\n",
    "#parse commands for multiple drones\n",
    "def send_command(msg = \"\", delay = 0):\n",
    "    if msg == \"\":\n",
    "        msg = input()\n",
    "\n",
    "    if msg.split()[0].isdigit():\n",
    "        msg = msg.split()\n",
    "        #targetting only one drone\n",
    "        print (\" \".join(msg[1:]))\n",
    "        send(\" \".join(msg[1:]), tello_addresses[int(msg[0])])\n",
    "    else:\n",
    "        for i in tello_addresses:\n",
    "            send(msg, i)\n",
    "    time.sleep(delay)\n",
    "    \n",
    "#set all tellos to sdk mode\n",
    "send_command(\"command\")"
   ]
  },
  {
   "cell_type": "code",
   "execution_count": null,
   "metadata": {},
   "outputs": [],
   "source": [
    "#to type in commands for 1D array\n",
    "\n",
    "while True:\n",
    "    msg = input()\n",
    "    if msg == \"exit\":\n",
    "        break\n",
    "    send_command(msg)"
   ]
  },
  {
   "cell_type": "code",
   "execution_count": null,
   "metadata": {},
   "outputs": [],
   "source": [
    "#INIT step: connecting tellos to router\n",
    "\n",
    "#router information\n",
    "router_ssid = input()\n",
    "router_pass = input()\n",
    "\n",
    "#set up for each tello\n",
    "\n",
    "#default tello ip on tello's network\n",
    "tello_default_ip = \"192.168.10.1\"\n",
    "tello_default_address = (tello_default_ip, tello_port)\n",
    "\n",
    "#set to station mode and connect to router\n",
    "sock.sendto(\"command\".encode(encoding=\"utf-8\"), tello_default_address)\n",
    "sock.sendto((f\"ap {router_ssid} {router_pass}\").encode(encoding=\"utf-8\"), tello_default_address)"
   ]
  }
 ],
 "metadata": {
  "kernelspec": {
   "display_name": "Python 3",
   "language": "python",
   "name": "python3"
  },
  "language_info": {
   "codemirror_mode": {
    "name": "ipython",
    "version": 3
   },
   "file_extension": ".py",
   "mimetype": "text/x-python",
   "name": "python",
   "nbconvert_exporter": "python",
   "pygments_lexer": "ipython3",
   "version": "3.7.3"
  }
 },
 "nbformat": 4,
 "nbformat_minor": 2
}
