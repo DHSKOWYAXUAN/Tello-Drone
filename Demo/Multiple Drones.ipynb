{
 "cells": [
  {
   "cell_type": "code",
   "execution_count": null,
   "metadata": {},
   "outputs": [],
   "source": [
    "#importing libraries\n",
    "import socket\n",
    "import threading\n",
    "#for delay\n",
    "import time\n",
    "\n",
    "#set tello port\n",
    "tello_port = 8889"
   ]
  },
  {
   "cell_type": "code",
   "execution_count": null,
   "metadata": {},
   "outputs": [],
   "source": [
    "#setting up local computer's socket\n",
    "loc_port = 9000\n",
    "loc_addr = ('', loc_port)\n",
    "\n",
    "sock = socket.socket(socket.AF_INET, socket.SOCK_DGRAM)\n",
    "sock.bind(loc_addr)"
   ]
  },
  {
   "cell_type": "code",
   "execution_count": null,
   "metadata": {},
   "outputs": [],
   "source": [
    "#receive listener function\n",
    "def receive(sock):\n",
    "    while True:\n",
    "        try:\n",
    "            #tello only sending ack/small error message to port\n",
    "            data, server_addr = sock.recvfrom(64)\n",
    "            print (data.decode(encoding=\"utf-8\"), server_addr)\n",
    "        except Exception as e:\n",
    "            print (\"Error: \" + str(e))"
   ]
  },
  {
   "cell_type": "code",
   "execution_count": null,
   "metadata": {},
   "outputs": [],
   "source": [
    "#send function to send command to drone\n",
    "def send(command, addr):\n",
    "    msg = command.encode(encoding=\"utf-8\")\n",
    "    print (f\"Sending command: {command}, {addr}\")\n",
    "    sock.sendto(msg, addr)"
   ]
  },
  {
   "cell_type": "code",
   "execution_count": null,
   "metadata": {},
   "outputs": [],
   "source": [
    "#start receive listener on another thread\n",
    "recv_thread = threading.Thread(target=receive, args = (sock,))\n",
    "recv_thread.daemon = True\n",
    "recv_thread.start()"
   ]
  },
  {
   "cell_type": "code",
   "execution_count": null,
   "metadata": {},
   "outputs": [],
   "source": [
    "#setting up tello addresses in 1D array\n",
    "\n",
    "#can use nmap to find the tello devices' IP on the network\n",
    "tello_ip = [\"192.168.0.101\"]\n",
    "#assign tello_port to each tello_ip\n",
    "tello_addresses = [(i, tello_port) for i in tello_ip]\n",
    "\n",
    "#parse commands for multiple drones\n",
    "def send_command(msg = \"\", delay = 0):\n",
    "    if msg == \"\":\n",
    "        msg = input()\n",
    "\n",
    "    if msg.split()[0].isdigit():\n",
    "        msg = msg.split()\n",
    "        #targetting only one drone\n",
    "        print (\" \".join(msg[1:]))\n",
    "        send(\" \".join(msg[1:]), tello_addresses[int(msg[0])])\n",
    "    else:\n",
    "        for i in tello_addresses:\n",
    "            send(msg, i)\n",
    "    time.sleep(delay)\n",
    "    \n",
    "#set all tellos to sdk mode\n",
    "send_command(\"command\")"
   ]
  },
  {
   "cell_type": "code",
   "execution_count": null,
   "metadata": {},
   "outputs": [],
   "source": [
    "#to type in commands for 1D array\n",
    "\n",
    "while True:\n",
    "    msg = input()\n",
    "    if msg == \"exit\":\n",
    "        break\n",
    "    send_command(msg)"
   ]
  },
  {
   "cell_type": "code",
   "execution_count": null,
   "metadata": {},
   "outputs": [],
   "source": [
    "#setting up tello addresses in 2D array (rows and columns)\n",
    "tello_ip = [[\"192.168.0.101\", \"192.168.0.102\", \"192.168.0.103\"], [\"192.168.0.104\", \"192.168.0.105\", \"192.168.0.106\"]]\n",
    "tello_addresses = [[(j, tello_port) for j in i] for i in tello_ip]\n",
    "\n",
    "#parse commands in terms of rows and columns\n",
    "def send_row_command(msg = \"\", delay = 0):\n",
    "    try:\n",
    "        if msg == \"\":\n",
    "            msg = input()\n",
    "        #by select by row (0) / column (1)\n",
    "        msg_split = msg.split()\n",
    "\n",
    "        if msg_split[0].isdigit():\n",
    "            #split by colon to find slice\n",
    "            msg_slice = msg_split[1].split(\":\")\n",
    "            if msg_split[0] == \"0\" or msg_split[0] == \"1\":\n",
    "                #get slice depending on elements in 2nd element of msg_slice\n",
    "                #only 1 element --> select that row/column\n",
    "                #only 2 elements --> select row/column slice\n",
    "                #all 3 elements --> select row/column slice with interval\n",
    "                if len(msg_slice) == 1:\n",
    "                    #not a slice, just a number, select that row/column\n",
    "                    #for msg_slice[0] == -1, because that will lead to slice(-1, 0) which does not select anything so set it to None\n",
    "                    slicer = slice(int(msg_slice[0]), int(msg_slice[0]) + 1 if int(msg_slice[0]) != -1 else None, None)\n",
    "                else:\n",
    "                    #a slice with at least 2 elements\n",
    "                    #if second element in msg_slice == \"\" then None to select remaining elements in slice\n",
    "                    slicer = slice(int(msg_slice[0]), int(msg_slice[1])if msg_slice[1] != \"\" else None, int(msg_slice[2]) if len(msg_slice) >= 3 else None)\n",
    "                    print (slicer)\n",
    "                if msg_split[0] == \"0\":\n",
    "                    #select by row, first layer of array\n",
    "                    to_be_sent = tello_addresses[slicer]\n",
    "\n",
    "                elif msg_split[0] == \"1\":\n",
    "                    #select by column, within nested array\n",
    "                    to_be_sent = [i[slicer] for i in tello_addresses]\n",
    "                #another way is to convert to numpy array then flatten, but importing numpy just for this seemed excessive\n",
    "                [[send(\" \".join(msg_split[2:]), j) for j in i] for i in to_be_sent]\n",
    "            elif msg_split[0] == \"2\":\n",
    "                #selecting the specific tello, \"2 row column command\"\n",
    "                #to_be_sent needs to be a 2D array\n",
    "                to_be_sent = tello_addresses[int(msg_split[1])][int(msg_split[2])]\n",
    "                send(\" \".join(msg_split[3:]), to_be_sent)\n",
    "            print (to_be_sent)    \n",
    "\n",
    "                \n",
    "        else:\n",
    "            [[send(msg, j) for j in i] for i in tello_addresses]\n",
    "    except Exception as e:\n",
    "        print (\"Error in command: \" + str(e))\n",
    "#set all tellos to sdk mode\n",
    "send_row_command(\"command\")\n",
    "    "
   ]
  },
  {
   "cell_type": "code",
   "execution_count": null,
   "metadata": {},
   "outputs": [],
   "source": [
    "#to type in commands for 2D array\n",
    "\n",
    "while True:\n",
    "    msg = input()\n",
    "    if msg == \"exit\":\n",
    "        break\n",
    "    send_row_command(msg)"
   ]
  },
  {
   "cell_type": "code",
   "execution_count": null,
   "metadata": {},
   "outputs": [],
   "source": [
    "#opening up socket to listen to tello state\n",
    "tello_state_socket = (\"\", 8890)\n",
    "state_sock = socket.socket(socket.AF_INET, socket.SOCK_DGRAM)\n",
    "state_sock.bind(tello_state_socket)\n",
    "state_thread = threading.Thread(target=receive, args = (state_sock,))\n",
    "state_thread.daemon = True\n",
    "state_thread.start()"
   ]
  },
  {
   "cell_type": "code",
   "execution_count": null,
   "metadata": {},
   "outputs": [],
   "source": [
    "send_command(\"takeoff\", 8)\n",
    "send_command (\"ccw 180\", 8)\n",
    "send_command(\"forward 50\", 7)\n",
    "send_command(\"cw 90\", 6)\n",
    "send_command(\"land\")"
   ]
  },
  {
   "cell_type": "code",
   "execution_count": null,
   "metadata": {},
   "outputs": [],
   "source": [
    "sock.close()"
   ]
  },
  {
   "cell_type": "code",
   "execution_count": null,
   "metadata": {},
   "outputs": [],
   "source": [
    "#INIT step: connecting tellos to router\n",
    "\n",
    "#router information\n",
    "router_ssid = input()\n",
    "router_pass = input()\n",
    "\n",
    "#set up for each tello\n",
    "\n",
    "#default tello ip on tello's network\n",
    "tello_default_ip = \"192.168.10.1\"\n",
    "tello_default_address = (tello_default_ip, tello_port)\n",
    "\n",
    "#set to station mode and connect to router\n",
    "sock.sendto(\"command\".encode(encoding=\"utf-8\"), tello_default_address)\n",
    "sock.sendto((f\"ap {router_ssid} {router_pass}\").encode(encoding=\"utf-8\"), tello_default_address)"
   ]
  },
  {
   "cell_type": "code",
   "execution_count": null,
   "metadata": {},
   "outputs": [],
   "source": []
  },
  {
   "cell_type": "code",
   "execution_count": null,
   "metadata": {},
   "outputs": [],
   "source": []
  }
 ],
 "metadata": {
  "kernelspec": {
   "display_name": "Python 3",
   "language": "python",
   "name": "python3"
  },
  "language_info": {
   "codemirror_mode": {
    "name": "ipython",
    "version": 3
   },
   "file_extension": ".py",
   "mimetype": "text/x-python",
   "name": "python",
   "nbconvert_exporter": "python",
   "pygments_lexer": "ipython3",
   "version": "3.7.3"
  }
 },
 "nbformat": 4,
 "nbformat_minor": 2
}
